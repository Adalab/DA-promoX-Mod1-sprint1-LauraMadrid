{
 "cells": [
  {
   "attachments": {},
   "cell_type": "markdown",
   "metadata": {},
   "source": [
    "**Métodos de *strings***\n",
    "\n",
    "Dado el siguiente *string* \n",
    "\n",
    "```python\n",
    "\n",
    "string = \"\"\"Hoy estamos en una clase de repaso,\n",
    "el objetivo es intentar solucionar todas vuestras dudas, \n",
    "preguntad todo lo que queráis! \n",
    "\"\"\"\n",
    "```\n",
    "\n",
    "\n",
    "Contesta a las siguientes preguntas: \n",
    "\n",
    "1️⃣ Crea dos variables nuevas: \n",
    "    - Una con el *string* en mayúsculas\n",
    "    - Otra con las letras en minúsculas\n",
    "\n",
    "2️⃣ Pon todas las primeras letras del *string* en mayúscula\n",
    "\n",
    "3️⃣ Separa el *string*  por los espacios y almacena el resultado en una lista llamanda `texto_lista`\n",
    "\n",
    "4️⃣ De la lista obtenida en el ejercicio anterior, selecciona solo los 5 primero elementos y almacena los resultados en una variable que se llame `texto_lista_corta` \n",
    "\n",
    "5️⃣ De la lista obtenida en el ejercicio 5. Vuelve a convertirlo en *string* \n",
    "\n",
    "6️⃣ Con el *string* obtenido en el paso anterior: \n",
    "\n",
    "    - Esta la palabra \"el\" en el *string* \n",
    "\n",
    "    - Reemplaza \"Hoy\" por nada\n",
    "\n",
    "    - El ejercicio anterior nos ha dejado espacios al inicio del string, eliminalos\n"
   ]
  },
  {
   "attachments": {},
   "cell_type": "markdown",
   "metadata": {},
   "source": [
    "Contesta a las siguientes preguntas: \n",
    "\n",
    "1️⃣ Crea dos variables nuevas: \n",
    "    - Una con el *string* en mayúsculas\n",
    "    - Otra con las letras en minúsculas\n",
    "    - Pon todas las primeras letras del *string* en mayúscula\n",
    "    - Separa el *string*  por los espacios y almacena el resultado en una lista llamanda `texto_lista`"
   ]
  },
  {
   "cell_type": "code",
   "execution_count": 8,
   "metadata": {},
   "outputs": [
    {
     "name": "stdout",
     "output_type": "stream",
     "text": [
      "HOY ESTAMOS EN UNA CLASE DE REPASO,\n",
      "EL OBJETIVO ES INTENTAR SOLUCIONAR TODAS VUESTRAS DUDAS, \n",
      "PREGUNTAD TODO LO QUE QUERÁIS! \n",
      "\n",
      "hoy estamos en una clase de repaso,\n",
      "el objetivo es intentar solucionar todas vuestras dudas, \n",
      "preguntad todo lo que queráis! \n",
      "\n",
      "Hoy estamos en una clase de repaso,\n",
      "el objetivo es intentar solucionar todas vuestras dudas, \n",
      "preguntad todo lo que queráis! \n",
      "\n",
      "['Hoy', 'estamos', 'en', 'una', 'clase', 'de', 'repaso,\\nel', 'objetivo', 'es', 'intentar', 'solucionar', 'todas', 'vuestras', 'dudas,', '\\npreguntad', 'todo', 'lo', 'que', 'queráis!', '\\n']\n"
     ]
    }
   ],
   "source": [
    "string = \"\"\"Hoy estamos en una clase de repaso,\n",
    "el objetivo es intentar solucionar todas vuestras dudas, \n",
    "preguntad todo lo que queráis! \n",
    "\"\"\"\n",
    "\n",
    "mayusculas = string.upper() #apliqué el método upper para convirtir todo el stg a mayusculas\n",
    "print(mayusculas)\n",
    "\n",
    "minusculas = string.lower() #apliqué el método lower para convirtir todo el stg a minusculas\n",
    "\n",
    "print(minusculas)\n",
    "\n",
    "string_cap = string.capitalize() #apliqué el método capitalize para \n",
    "                                # convirtir solo la primera letra del stg en mayuscula\n",
    "\n",
    "print(string_cap) \n",
    "\n",
    "\n",
    "texto_lista = string.split(\" \") # con el método split, separe el string por los espacios y cree la \n",
    "                                # la lista de strings \"texto_lista\"\n",
    "\n",
    "print(texto_lista)\n"
   ]
  },
  {
   "attachments": {},
   "cell_type": "markdown",
   "metadata": {},
   "source": [
    "**Encuentra el número que no está en la lista**\n",
    "\n",
    "Tenemos una lista desordenada con números positivos de 1 a n. Siempre faltará un sólo número de esta lista aleatoria, ¿cómo identifico cuál falta? Cread un programa para que este código devuelva los resultados deseados:\n",
    "\n",
    "```python\n",
    "lista1 = [3,7,1,2,8,4,5] # nos tiene que devolver 6\n",
    "lista2 = [4,6,1,3,5] #  nos tiene que devolver 2\n",
    "lista3 = [34,35,36,38,39,40] # nos tiene que devolver 37\n",
    "```\n",
    "\n",
    "BONUS: Introduce los resultados obtenidos en un diccionario, indicando que numero falta para cada una de las listas:\n",
    "```python\n",
    "# por ejemplo\n",
    "\n",
    "resultados = {'falta_lista_1': valor_numerico_1, 'falta_lista_2': valor_numerico_2, 'falta_lista_3': valor_numerico_3}\n",
    "```"
   ]
  },
  {
   "cell_type": "code",
   "execution_count": 72,
   "metadata": {},
   "outputs": [],
   "source": [
    "lista1 = [3,7,1,2,8,4,5]\n",
    "lista2 = [4,6,1,3,5] \n",
    "lista3 = [34,35,36,38,39,40]\n"
   ]
  },
  {
   "cell_type": "code",
   "execution_count": 73,
   "metadata": {},
   "outputs": [
    {
     "data": {
      "text/plain": [
       "[1, 2, 3, 4, 5, 7, 8]"
      ]
     },
     "execution_count": 73,
     "metadata": {},
     "output_type": "execute_result"
    }
   ],
   "source": [
    "lista1 = [3,7,1,2,8,4,5]\n",
    "\n",
    "lista_ordenada = sorted(lista1)\n",
    "\n",
    "lista_ordenada\n",
    "\n",
    "\n",
    "\n"
   ]
  },
  {
   "cell_type": "code",
   "execution_count": 54,
   "metadata": {},
   "outputs": [
    {
     "name": "stdout",
     "output_type": "stream",
     "text": [
      "6\n"
     ]
    }
   ],
   "source": [
    "for i in range(0,len(lista_ordenada)): # para cada elento en el range 0 hasta la longitud de la lista\n",
    "    expected_value = lista_ordenada[0] + i # el valor esperado es cada elemento de la lista ordenada + uno porque es una lista secuencial\n",
    "    if lista_ordenada[i] != expected_value: # si el valor er distinto del valor subsecuente, printea el valor y para el programa \n",
    "        print(expected_value)\n",
    "        break"
   ]
  },
  {
   "cell_type": "code",
   "execution_count": 80,
   "metadata": {},
   "outputs": [
    {
     "data": {
      "text/plain": [
       "[1, 3, 4, 5, 6]"
      ]
     },
     "execution_count": 80,
     "metadata": {},
     "output_type": "execute_result"
    }
   ],
   "source": [
    "lista2 = [4,6,1,3,5] \n",
    "\n",
    "lista_ordenada2 = sorted(lista2)\n",
    "\n",
    "lista_ordenada2\n"
   ]
  },
  {
   "cell_type": "code",
   "execution_count": 81,
   "metadata": {},
   "outputs": [
    {
     "name": "stdout",
     "output_type": "stream",
     "text": [
      "2\n"
     ]
    }
   ],
   "source": [
    "for i in range(0,len(lista_ordenada2)):\n",
    "    expected_value2 = lista_ordenada2[0] + i\n",
    "    if lista_ordenada2[i] != expected_value2:\n",
    "        print(expected_value2)\n",
    "        break\n",
    "    \n",
    "    "
   ]
  },
  {
   "cell_type": "code",
   "execution_count": 83,
   "metadata": {},
   "outputs": [
    {
     "data": {
      "text/plain": [
       "[34, 35, 36, 38, 39, 40]"
      ]
     },
     "execution_count": 83,
     "metadata": {},
     "output_type": "execute_result"
    }
   ],
   "source": [
    "lista3 = [34,35,36,38,39,40]\n",
    "\n",
    "lista_ordenada3 = sorted(lista3)\n",
    "\n",
    "lista_ordenada3"
   ]
  },
  {
   "cell_type": "code",
   "execution_count": 84,
   "metadata": {},
   "outputs": [
    {
     "name": "stdout",
     "output_type": "stream",
     "text": [
      "37\n"
     ]
    }
   ],
   "source": [
    "for i in range(0,len(lista_ordenada3)):\n",
    "    expected_value3 = lista_ordenada3[0] + i\n",
    "    if lista_ordenada3[i] != expected_value3:\n",
    "        print(expected_value3)\n",
    "        break"
   ]
  },
  {
   "cell_type": "code",
   "execution_count": 85,
   "metadata": {},
   "outputs": [
    {
     "name": "stdout",
     "output_type": "stream",
     "text": [
      "{'falta_lista_1': 6, 'falta_lista_2': 2, 'falta_lista_3': 37}\n"
     ]
    }
   ],
   "source": [
    "resultados = {'falta_lista_1': expected_value, 'falta_lista_2': expected_value2, 'falta_lista_3': expected_value3}\n",
    "\n",
    "print(resultados)"
   ]
  },
  {
   "cell_type": "markdown",
   "metadata": {},
   "source": [
    "**Mover los ceros a la izquierda**\n",
    "\n",
    "Nos dan un *string* con números aleatorios. Algunos de ellos son 0. Encuentra todos los ceros y ponlos al principio de la lista, manteniendo el orden de los demás números.\n",
    "\n",
    "Ejemplo:\n",
    "\n",
    "```python\n",
    "A = [1,10,88,0,59,63,0,20,0]\n",
    "\n",
    "# tiene que devolver\n",
    "[0, 0, 0, 1, 10, 88, 59, 63, 20]\n",
    "```"
   ]
  },
  {
   "cell_type": "code",
   "execution_count": 116,
   "metadata": {},
   "outputs": [
    {
     "name": "stdout",
     "output_type": "stream",
     "text": [
      "[0, 0, 0]\n",
      "[1, 10, 88, 59, 63, 20]\n"
     ]
    }
   ],
   "source": [
    "lista_ceros = []\n",
    "\n",
    "A = [1,10,88,0,59,63,0,20,0]\n",
    "\n",
    "pos = 0                         # 3. creé una variable para cada posición de la lista desde la posicion 0\n",
    "\n",
    "for i in A:                     \n",
    "    if i == 0:                  # 1. si el elemento de la lista es cero, ponerlo en la lista de ceros y\n",
    "                                # 2. quitarlos de la lista A con el metodo .pop\n",
    "        lista_ceros.append(i)   # 4. para pase a la posicion siguiente le doi pop + 1 y vuelve el bucle\n",
    "        A.pop(pos)\n",
    "    pos = pos + 1\n",
    "\n",
    "print(lista_ceros)\n",
    "\n",
    "print(A)\n",
    "\n",
    "\n",
    "\n",
    "\n",
    "\n",
    "        "
   ]
  },
  {
   "cell_type": "code",
   "execution_count": 123,
   "metadata": {},
   "outputs": [
    {
     "name": "stdout",
     "output_type": "stream",
     "text": [
      "[0, 0, 0, 1, 10, 88, 59, 63, 20]\n"
     ]
    }
   ],
   "source": [
    "lista_final = lista_ceros + A # concatené las listas con el +, no con la coma, \n",
    "                                # para que me devolvera una lista de elementos\n",
    "                                # sueltos directamente.\n",
    "\n",
    "print(lista_final)"
   ]
  },
  {
   "attachments": {},
   "cell_type": "markdown",
   "metadata": {},
   "source": [
    "**Invertir palabras de una frase**\n",
    "\n",
    "Nos dan una frase en que quieren que las letras de cada palabra acaben teniendo el orden invertido, manteniendo el orden de las palabras.\n",
    "\n",
    "```python\n",
    "frase = 'Hola Ada'\n",
    "print(frase) \n",
    "\n",
    "# nos daría 'aloH adA'\n",
    "```"
   ]
  },
  {
   "cell_type": "code",
   "execution_count": 176,
   "metadata": {},
   "outputs": [
    {
     "name": "stdout",
     "output_type": "stream",
     "text": [
      "adA aloH\n",
      "aloH adA\n"
     ]
    },
    {
     "data": {
      "text/plain": [
       "str"
      ]
     },
     "execution_count": 176,
     "metadata": {},
     "output_type": "execute_result"
    }
   ],
   "source": [
    "frase = 'Hola Ada'\n",
    "\n",
    "frase = frase[::-1] # reverter las letras del string \n",
    "print(frase)\n",
    "\n",
    "palabra = frase.split() # separar el string en una lista con dos strings \n",
    "\n",
    "palabra.reverse() # reverter de los strings en la lista\n",
    "\n",
    "frase_invertida = \" \".join(palabra) #unir otra vez las listas en un string invertida \n",
    "\n",
    "    \n",
    "print(frase_invertida)\n",
    "\n",
    "type(frase_invertida) # te devuelve un string con las palabras al revez \n",
    "\n",
    "\n"
   ]
  },
  {
   "cell_type": "code",
   "execution_count": 148,
   "metadata": {},
   "outputs": [
    {
     "name": "stdout",
     "output_type": "stream",
     "text": [
      "adA aloH\n"
     ]
    }
   ],
   "source": [
    "\n",
    "\n",
    "frase_reversa1 = \"\".join(frase_reversa)\n",
    "\n",
    "print(frase_reversa1) \n",
    "\n"
   ]
  },
  {
   "attachments": {},
   "cell_type": "markdown",
   "metadata": {},
   "source": [
    "###  ¿Es un DNI valido?\n",
    "\n",
    "Los DNI españoles pueden ser:\n",
    "\n",
    "- NIF (Numero de Identificación Fiscal) - 8 numeros y una letra, o\n",
    "- NIE (Numero de Identificación de Extranjeros) - 1 letra, 7 numeros y 1 letra."
   ]
  },
  {
   "cell_type": "code",
   "execution_count": 180,
   "metadata": {},
   "outputs": [],
   "source": [
    "lista_dni = [\"X-1234567-Z\", \"X-1234567\", \"12345678-M\", \"1234567-T\", \"12345677\"] "
   ]
  },
  {
   "cell_type": "code",
   "execution_count": 71,
   "metadata": {},
   "outputs": [
    {
     "name": "stdout",
     "output_type": "stream",
     "text": [
      "El X-1234567-Z es válido\n",
      "El X-1234567 es inválido\n",
      "El 12345678-M es válido\n",
      "El 1234567-T es inválido\n",
      "El 12345677 es inválido\n"
     ]
    }
   ],
   "source": [
    "# otra solucion\n",
    "\n",
    "for dni in lista_dni:\n",
    "                                            \n",
    "    if len(dni) == 10 or len(dni) == 11:\n",
    "        print(f\"El {dni} es válido\")\n",
    "        \n",
    "           \n",
    "    else: \n",
    "        print(f\"El {dni} es inválido\")\n",
    "        \n"
   ]
  },
  {
   "cell_type": "code",
   "execution_count": 183,
   "metadata": {},
   "outputs": [
    {
     "name": "stdout",
     "output_type": "stream",
     "text": [
      "['dni es válido', 'dni es inválido', 'dni es válido', 'dni es inválido', 'dni es inválido']\n"
     ]
    }
   ],
   "source": [
    "lista_dnis = [\"dni es válido\" if len(dni) == 10 or len(dni) == 11 else \"dni es inválido\" \n",
    "              for dni in lista_dni]\n",
    "\n",
    "print(lista_dnis)"
   ]
  },
  {
   "attachments": {},
   "cell_type": "markdown",
   "metadata": {},
   "source": [
    "**BONUS: Encuentra los k números más cerca a X**\n",
    "\n",
    "\n",
    "Haz una programa que compare los contenidos de una lista a un número dado X. Queremos que nos devuelva los k números que son más parecidos al número dado.\n",
    "\n",
    "Ejemplo:\n",
    "```python\n",
    "L = [4, 19, -5, 100, 53, 43, 74, -83, 13.5, 26]\n",
    "# Dados los siguientes valores \n",
    "x =30\n",
    "k = 3 # el número de números que tendremos que buscar en la lista que se parecen a 30 \n",
    "# El output debería ser igual a [26, 19, 43]\n",
    "```"
   ]
  },
  {
   "cell_type": "code",
   "execution_count": null,
   "metadata": {},
   "outputs": [],
   "source": []
  }
 ],
 "metadata": {
  "kernelspec": {
   "display_name": "Python 3",
   "language": "python",
   "name": "python3"
  },
  "language_info": {
   "codemirror_mode": {
    "name": "ipython",
    "version": 3
   },
   "file_extension": ".py",
   "mimetype": "text/x-python",
   "name": "python",
   "nbconvert_exporter": "python",
   "pygments_lexer": "ipython3",
   "version": "3.7.3"
  },
  "orig_nbformat": 4,
  "vscode": {
   "interpreter": {
    "hash": "31f2aee4e71d21fbe5cf8b01ff0e069b9275f58929596ceb00d14d90e3e16cd6"
   }
  }
 },
 "nbformat": 4,
 "nbformat_minor": 2
}
